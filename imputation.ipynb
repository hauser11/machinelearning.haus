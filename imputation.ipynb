{
 "cells": [
  {
   "cell_type": "code",
   "execution_count": 19,
   "metadata": {},
   "outputs": [
    {
     "name": "stdout",
     "output_type": "stream",
     "text": [
      "replace missing values using the mean value of the columns that contain missing values\n",
      "[[4.         2.        ]\n",
      " [6.         3.66666667]\n",
      " [7.         6.        ]]\n",
      "simple imputer also supports sparse matrices\n",
      "[[3. 2.]\n",
      " [6. 3.]\n",
      " [7. 6.]]\n",
      "categorical data supported as string values\n",
      "[['a' 'x']\n",
      " ['a' 'y']\n",
      " ['a' 'y']\n",
      " ['b' 'y']]\n",
      "models each feature with missing values as a function of the other features\n",
      "a regressor is fit on (X, y) for known y and used to predict missing values\n",
      "[[ 1.  2.]\n",
      " [ 6. 12.]\n",
      " [ 3.  6.]]\n",
      "preserving information about which values are missing\n",
      "missing_values allows specification of other placeholds than data type float\n",
      "[[ True  True False False]\n",
      " [False  True False  True]\n",
      " [False  True False False]]\n",
      "[0 1 2 3]\n"
     ]
    }
   ],
   "source": [
    "import numpy as np\n",
    "from sklearn.impute import SimpleImputer\n",
    "\n",
    "print(\"replace missing values using the mean value of the columns that contain missing values\")\n",
    "\n",
    "imp = SimpleImputer(missing_values=np.nan, strategy='mean')\n",
    "imp.fit([[1, 2], [np.nan, 3], [7, 6]])\n",
    "X = [[np.nan, 2], [6, np.nan], [7, 6]]\n",
    "print(imp.transform(X))\n",
    "\n",
    "print(\"simple imputer also supports sparse matrices\")\n",
    "import scipy.sparse as sp\n",
    "X = sp.csc_matrix([[1, 2], [0, -1], [8, 4]])\n",
    "imp = SimpleImputer(missing_values=-1, strategy='mean')\n",
    "imp.fit(X)\n",
    "X_test = sp.csc_matrix([[-1, 2], [6, -1], [7, 6]])\n",
    "print(imp.transform(X_test).toarray())\n",
    "\n",
    "print(\"categorical data supported as string values\")\n",
    "import pandas as pd\n",
    "df=pd.DataFrame([[\"a\", \"x\"],\n",
    "                [np.nan, \"y\"],\n",
    "                [\"a\", np.nan],\n",
    "                 [\"b\", \"y\"]], dtype=\"category\")\n",
    "imp = SimpleImputer(strategy=\"most_frequent\")\n",
    "print(imp.fit_transform(df))\n",
    "\n",
    "print(\"models each feature with missing values as a function of the other features\")\n",
    "print(\"a regressor is fit on (X, y) for known y and used to predict missing values\")\n",
    "from sklearn.experimental import enable_iterative_imputer\n",
    "from sklearn.impute import IterativeImputer\n",
    "imp = IterativeImputer(max_iter=10, random_state=0)\n",
    "imp.fit([[1, 2], [3, 6], [4, 8], [np.nan, 3], [7, np.nan]])\n",
    "X_test = [[np.nan, 2], [6, np.nan], [np.nan, 6]]\n",
    "# the model learns that the second feature is double the first\n",
    "print(np.round(imp.transform(X_test)))\n",
    "\n",
    "\n",
    "print(\"preserving information about which values are missing\")\n",
    "print(\"missing_values allows specification of other placeholds than data type float\")\n",
    "\n",
    "from sklearn.impute import MissingIndicator\n",
    "X = np.array([[-1,-1,1,3],\n",
    "              [4, -1, 0, -1],\n",
    "             [8, -1, 1, 0]])\n",
    "indicator = MissingIndicator(missing_values=-1)\n",
    "mask_missing_values_only = indicator.fit_transform(X)\n",
    "mask_missing_values_only\n",
    "\n",
    "print(\"the features parameter can be set to return all features without regard to missing values\")\n",
    "indicator = MissingIndicator(missing_values=-1, features=\"all\")\n",
    "mask_all = indicator.fit_transform(X)\n",
    "print(mask_all)\n",
    "\n",
    "print(indicator.features_)\n",
    "\n",
    "\n",
    "\n"
   ]
  },
  {
   "cell_type": "code",
   "execution_count": 25,
   "metadata": {},
   "outputs": [
    {
     "name": "stdout",
     "output_type": "stream",
     "text": [
      "missing indicator in a pipeline\n",
      "loading iris dataset and adding missing values\n",
      "feature union is used to ass indicators features to the regualr features\n",
      "(100, 8)\n",
      "in order to make predictions wrap the data in a pipeline with a classifier\n",
      "(100,)\n"
     ]
    }
   ],
   "source": [
    "from sklearn.datasets import load_iris\n",
    "from sklearn.impute import SimpleImputer, MissingIndicator\n",
    "from sklearn.model_selection import train_test_split\n",
    "from sklearn.pipeline import FeatureUnion, make_pipeline\n",
    "from sklearn.tree import DecisionTreeClassifier\n",
    "\n",
    "print('missing indicator in a pipeline')\n",
    "print('loading iris dataset and adding missing values')\n",
    "X, y = load_iris(return_X_y=True)\n",
    "mask = np.random.randint(0, 2, size=X.shape).astype(np.bool)\n",
    "X[mask]= np.nan\n",
    "X_train, X_test, y_train, _ = train_test_split(X, y, test_size=100,\n",
    "                                              random_state=0)\n",
    "print('feature union is used to ass indicators features to the regualr features')\n",
    "\n",
    "transformer = FeatureUnion(\n",
    "    transformer_list=[\n",
    "        ('features', SimpleImputer(strategy='mean')),\n",
    "        ('indicators', MissingIndicator())])\n",
    "transformer = transformer.fit(X_train, y_train)\n",
    "results = transformer.transform(X_test)\n",
    "print(results.shape)\n",
    "\n",
    "print('in order to make predictions wrap the data in a pipeline with a classifier')\n",
    "\n",
    "clf = make_pipeline(transformer, DecisionTreeClassifier())\n",
    "clf = clf.fit(X_train, y_train)\n",
    "results = clf.predict(X_test)\n",
    "print(results.shape)\n"
   ]
  },
  {
   "cell_type": "code",
   "execution_count": null,
   "metadata": {},
   "outputs": [],
   "source": []
  }
 ],
 "metadata": {
  "kernelspec": {
   "display_name": "Python 3",
   "language": "python",
   "name": "python3"
  },
  "language_info": {
   "codemirror_mode": {
    "name": "ipython",
    "version": 3
   },
   "file_extension": ".py",
   "mimetype": "text/x-python",
   "name": "python",
   "nbconvert_exporter": "python",
   "pygments_lexer": "ipython3",
   "version": "3.7.4"
  }
 },
 "nbformat": 4,
 "nbformat_minor": 2
}
